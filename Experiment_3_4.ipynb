{
  "nbformat": 4,
  "nbformat_minor": 0,
  "metadata": {
    "colab": {
      "provenance": []
    },
    "kernelspec": {
      "name": "python3",
      "display_name": "Python 3"
    },
    "language_info": {
      "name": "python"
    }
  },
  "cells": [
    {
      "cell_type": "code",
      "execution_count": 1,
      "metadata": {
        "id": "BJD1awEzxUNv"
      },
      "outputs": [],
      "source": [
        "from sklearn.datasets import load_breast_cancer\n",
        "from sklearn.model_selection import train_test_split\n",
        "from sklearn.tree import DecisionTreeClassifier\n",
        "from sklearn.ensemble import RandomForestClassifier"
      ]
    },
    {
      "cell_type": "code",
      "source": [
        "data = load_breast_cancer()\n",
        "X= data.data\n",
        "Y= data.target"
      ],
      "metadata": {
        "id": "4hVxKU9Oxa01"
      },
      "execution_count": 2,
      "outputs": []
    },
    {
      "cell_type": "code",
      "source": [
        "x_train, x_test, y_train, y_test = train_test_split(X, Y, test_size= 0.3)"
      ],
      "metadata": {
        "id": "sGPJsio-xlca"
      },
      "execution_count": 3,
      "outputs": []
    },
    {
      "cell_type": "code",
      "source": [
        "x_train\n"
      ],
      "metadata": {
        "colab": {
          "base_uri": "https://localhost:8080/"
        },
        "id": "qKG8wg-vxq-X",
        "outputId": "eefe3467-f01f-43f3-d9cb-d5f3a23cd1d9"
      },
      "execution_count": 4,
      "outputs": [
        {
          "output_type": "execute_result",
          "data": {
            "text/plain": [
              "array([[2.137e+01, 1.510e+01, 1.413e+02, ..., 1.966e-01, 2.730e-01,\n",
              "        8.666e-02],\n",
              "       [1.968e+01, 2.168e+01, 1.299e+02, ..., 2.255e-01, 4.045e-01,\n",
              "        7.918e-02],\n",
              "       [1.863e+01, 2.511e+01, 1.248e+02, ..., 1.848e-01, 3.444e-01,\n",
              "        9.782e-02],\n",
              "       ...,\n",
              "       [1.378e+01, 1.579e+01, 8.837e+01, ..., 3.312e-02, 1.859e-01,\n",
              "        6.810e-02],\n",
              "       [1.805e+01, 1.615e+01, 1.202e+02, ..., 2.102e-01, 3.751e-01,\n",
              "        1.108e-01],\n",
              "       [1.630e+01, 1.570e+01, 1.047e+02, ..., 1.357e-01, 2.300e-01,\n",
              "        7.230e-02]])"
            ]
          },
          "metadata": {},
          "execution_count": 4
        }
      ]
    },
    {
      "cell_type": "code",
      "source": [
        "clf = DecisionTreeClassifier()\n",
        "clf.fit(x_train, y_train)\n"
      ],
      "metadata": {
        "colab": {
          "base_uri": "https://localhost:8080/"
        },
        "id": "GRS3NSofxznr",
        "outputId": "55b6f958-0327-4dc7-dc62-b48c1a6f841a"
      },
      "execution_count": 5,
      "outputs": [
        {
          "output_type": "execute_result",
          "data": {
            "text/plain": [
              "DecisionTreeClassifier()"
            ]
          },
          "metadata": {},
          "execution_count": 5
        }
      ]
    },
    {
      "cell_type": "code",
      "source": [
        "clf2 = RandomForestClassifier()\n",
        "clf2.fit(x_train, y_train)"
      ],
      "metadata": {
        "colab": {
          "base_uri": "https://localhost:8080/"
        },
        "id": "L0XQUJutx6-7",
        "outputId": "b6f744a0-d9ac-4d27-dae9-8e30977e725c"
      },
      "execution_count": 6,
      "outputs": [
        {
          "output_type": "execute_result",
          "data": {
            "text/plain": [
              "RandomForestClassifier()"
            ]
          },
          "metadata": {},
          "execution_count": 6
        }
      ]
    },
    {
      "cell_type": "code",
      "source": [
        "print(f'Decision Tree: {clf.score(x_test,y_test)}')\n",
        "print(f'Randon Forest: {clf2.score(x_test,y_test)}')"
      ],
      "metadata": {
        "colab": {
          "base_uri": "https://localhost:8080/"
        },
        "id": "6HUXBxMTyAZi",
        "outputId": "c0194249-b983-47da-fff9-dc1051758d31"
      },
      "execution_count": 7,
      "outputs": [
        {
          "output_type": "stream",
          "name": "stdout",
          "text": [
            "Decision Tree: 0.935672514619883\n",
            "Randon Forest: 0.9707602339181286\n"
          ]
        }
      ]
    },
    {
      "cell_type": "code",
      "source": [
        "from sklearn import tree\n",
        "tree.plot_tree(clf.fit(x_train,y_train))"
      ],
      "metadata": {
        "colab": {
          "base_uri": "https://localhost:8080/",
          "height": 855
        },
        "id": "W_4WIgvwyLPF",
        "outputId": "2242f958-ddaf-41cd-8a6f-796f17ca3515"
      },
      "execution_count": 8,
      "outputs": [
        {
          "output_type": "execute_result",
          "data": {
            "text/plain": [
              "[Text(0.6473214285714286, 0.9285714285714286, 'X[22] <= 113.15\\ngini = 0.478\\nsamples = 398\\nvalue = [157, 241]'),\n",
              " Text(0.4375, 0.7857142857142857, 'X[27] <= 0.136\\ngini = 0.162\\nsamples = 259\\nvalue = [23, 236]'),\n",
              " Text(0.26785714285714285, 0.6428571428571429, 'X[13] <= 36.465\\ngini = 0.06\\nsamples = 228\\nvalue = [7, 221]'),\n",
              " Text(0.14285714285714285, 0.5, 'X[14] <= 0.003\\ngini = 0.019\\nsamples = 211\\nvalue = [2, 209]'),\n",
              " Text(0.07142857142857142, 0.35714285714285715, 'X[19] <= 0.001\\ngini = 0.32\\nsamples = 5\\nvalue = [1, 4]'),\n",
              " Text(0.03571428571428571, 0.21428571428571427, 'gini = 0.0\\nsamples = 1\\nvalue = [1, 0]'),\n",
              " Text(0.10714285714285714, 0.21428571428571427, 'gini = 0.0\\nsamples = 4\\nvalue = [0, 4]'),\n",
              " Text(0.21428571428571427, 0.35714285714285715, 'X[21] <= 33.27\\ngini = 0.01\\nsamples = 206\\nvalue = [1, 205]'),\n",
              " Text(0.17857142857142858, 0.21428571428571427, 'gini = 0.0\\nsamples = 190\\nvalue = [0, 190]'),\n",
              " Text(0.25, 0.21428571428571427, 'X[21] <= 33.56\\ngini = 0.117\\nsamples = 16\\nvalue = [1, 15]'),\n",
              " Text(0.21428571428571427, 0.07142857142857142, 'gini = 0.0\\nsamples = 1\\nvalue = [1, 0]'),\n",
              " Text(0.2857142857142857, 0.07142857142857142, 'gini = 0.0\\nsamples = 15\\nvalue = [0, 15]'),\n",
              " Text(0.39285714285714285, 0.5, 'X[27] <= 0.11\\ngini = 0.415\\nsamples = 17\\nvalue = [5, 12]'),\n",
              " Text(0.35714285714285715, 0.35714285714285715, 'X[25] <= 0.082\\ngini = 0.245\\nsamples = 14\\nvalue = [2, 12]'),\n",
              " Text(0.32142857142857145, 0.21428571428571427, 'gini = 0.0\\nsamples = 2\\nvalue = [2, 0]'),\n",
              " Text(0.39285714285714285, 0.21428571428571427, 'gini = 0.0\\nsamples = 12\\nvalue = [0, 12]'),\n",
              " Text(0.42857142857142855, 0.35714285714285715, 'gini = 0.0\\nsamples = 3\\nvalue = [3, 0]'),\n",
              " Text(0.6071428571428571, 0.6428571428571429, 'X[21] <= 25.76\\ngini = 0.499\\nsamples = 31\\nvalue = [16, 15]'),\n",
              " Text(0.5357142857142857, 0.5, 'X[4] <= 0.123\\ngini = 0.291\\nsamples = 17\\nvalue = [3, 14]'),\n",
              " Text(0.5, 0.35714285714285715, 'X[27] <= 0.139\\ngini = 0.124\\nsamples = 15\\nvalue = [1, 14]'),\n",
              " Text(0.4642857142857143, 0.21428571428571427, 'gini = 0.0\\nsamples = 1\\nvalue = [1, 0]'),\n",
              " Text(0.5357142857142857, 0.21428571428571427, 'gini = 0.0\\nsamples = 14\\nvalue = [0, 14]'),\n",
              " Text(0.5714285714285714, 0.35714285714285715, 'gini = 0.0\\nsamples = 2\\nvalue = [2, 0]'),\n",
              " Text(0.6785714285714286, 0.5, 'X[23] <= 492.25\\ngini = 0.133\\nsamples = 14\\nvalue = [13, 1]'),\n",
              " Text(0.6428571428571429, 0.35714285714285715, 'gini = 0.0\\nsamples = 1\\nvalue = [0, 1]'),\n",
              " Text(0.7142857142857143, 0.35714285714285715, 'gini = 0.0\\nsamples = 13\\nvalue = [13, 0]'),\n",
              " Text(0.8571428571428571, 0.7857142857142857, 'X[1] <= 14.98\\ngini = 0.069\\nsamples = 139\\nvalue = [134, 5]'),\n",
              " Text(0.7857142857142857, 0.6428571428571429, 'X[17] <= 0.013\\ngini = 0.5\\nsamples = 8\\nvalue = [4, 4]'),\n",
              " Text(0.75, 0.5, 'gini = 0.0\\nsamples = 4\\nvalue = [0, 4]'),\n",
              " Text(0.8214285714285714, 0.5, 'gini = 0.0\\nsamples = 4\\nvalue = [4, 0]'),\n",
              " Text(0.9285714285714286, 0.6428571428571429, 'X[20] <= 16.285\\ngini = 0.015\\nsamples = 131\\nvalue = [130, 1]'),\n",
              " Text(0.8928571428571429, 0.5, 'X[20] <= 16.055\\ngini = 0.5\\nsamples = 2\\nvalue = [1, 1]'),\n",
              " Text(0.8571428571428571, 0.35714285714285715, 'gini = 0.0\\nsamples = 1\\nvalue = [1, 0]'),\n",
              " Text(0.9285714285714286, 0.35714285714285715, 'gini = 0.0\\nsamples = 1\\nvalue = [0, 1]'),\n",
              " Text(0.9642857142857143, 0.5, 'gini = 0.0\\nsamples = 129\\nvalue = [129, 0]')]"
            ]
          },
          "metadata": {},
          "execution_count": 8
        },
        {
          "output_type": "display_data",
          "data": {
            "text/plain": [
              "<Figure size 432x288 with 1 Axes>"
            ],
            "image/png": "[encoded data removed]"
          },
          "metadata": {
            "needs_background": "light"
          }
        }
      ]
    }
  ]
}